{
 "cells": [
  {
   "cell_type": "code",
   "execution_count": 5,
   "id": "aa3665a3",
   "metadata": {
    "scrolled": true
   },
   "outputs": [
    {
     "name": "stdout",
     "output_type": "stream",
     "text": [
      "    product_id  old_price  new_price     updated_at\n",
      "0           64     270000     239000  9/10/18 16:37\n",
      "4      3954203      68800      60000  9/10/18 16:32\n",
      "1      3954203      60000      64000  9/11/18 11:54\n",
      "3      3954203      64000      60500   9/15/18 3:49\n",
      "2      3954203      60500      57500  9/17/18 22:59\n",
      "7      3998909      19000      17000  9/10/18 16:35\n",
      "6      3998909      17000      15500   9/13/18 6:43\n",
      "5      3998909      15500      16500   9/16/18 5:09\n",
      "11     4085861      60000      53500   9/11/18 8:51\n",
      "9      4085861      53500      67000   9/12/18 3:51\n",
      "13     4085861      67000      62500   9/13/18 6:43\n",
      "12     4085861      62500      58000   9/15/18 3:51\n",
      "8      4085861      53500      52000  9/17/18 22:59\n",
      "10     4085861      58000      53500   9/17/18 3:35\n"
     ]
    }
   ],
   "source": [
    "import pandas as pd\n",
    "prices = pd.read_csv(\"prices.csv\")\n",
    "print(prices.sort_values(['product_id', 'updated_at']))"
   ]
  },
  {
   "cell_type": "code",
   "execution_count": 6,
   "id": "cd209e7b",
   "metadata": {
    "scrolled": false
   },
   "outputs": [
    {
     "name": "stdout",
     "output_type": "stream",
     "text": [
      "     product_id     ordered_at  quantity_ordered\n",
      "171          64  9/11/18 19:32                 1\n",
      "174          64  9/12/18 13:23                 1\n",
      "173          64  9/12/18 16:00                 1\n",
      "172          64  9/14/18 20:10                 1\n",
      "24      3954203  9/11/18 11:11                 1\n",
      "..          ...            ...               ...\n",
      "79      4085861  9/18/18 20:54                 1\n",
      "69      4085861   9/18/18 6:47                 1\n",
      "68      4085861   9/18/18 6:53                 1\n",
      "74      4085861   9/18/18 7:01                 1\n",
      "70      4085861   9/18/18 8:29                 1\n",
      "\n",
      "[175 rows x 3 columns]\n"
     ]
    }
   ],
   "source": [
    "sales = pd.read_csv(\"sales.csv\")\n",
    "print(sales.sort_values(['product_id', 'ordered_at']))"
   ]
  },
  {
   "cell_type": "code",
   "execution_count": 26,
   "id": "69e26ede",
   "metadata": {
    "scrolled": true
   },
   "outputs": [
    {
     "name": "stdout",
     "output_type": "stream",
     "text": [
      "     product_id          ordered_at  quantity_ordered  old_price  new_price  \\\n",
      "0       3954203 2018-09-11 01:43:00                 1      68800      60000   \n",
      "1       4085861 2018-09-11 06:26:00                 1      60000      53500   \n",
      "2       4085861 2018-09-11 06:53:00                 1      60000      53500   \n",
      "3       4085861 2018-09-11 08:24:00                 1      60000      53500   \n",
      "4       4085861 2018-09-11 09:30:00                 1      60000      53500   \n",
      "..          ...                 ...               ...        ...        ...   \n",
      "170     4085861 2018-09-18 20:23:00                 1      53500      52000   \n",
      "171     4085861 2018-09-18 20:43:00                 1      53500      52000   \n",
      "172     4085861 2018-09-18 20:54:00                 1      53500      52000   \n",
      "173     3954203 2018-09-18 21:26:00                 1      60500      57500   \n",
      "174     3998909 2018-09-18 22:11:00                 1      15500      16500   \n",
      "\n",
      "             updated_at  \n",
      "0   2018-09-10 16:32:00  \n",
      "1   2018-09-11 08:51:00  \n",
      "2   2018-09-11 08:51:00  \n",
      "3   2018-09-11 08:51:00  \n",
      "4   2018-09-11 08:51:00  \n",
      "..                  ...  \n",
      "170 2018-09-17 22:59:00  \n",
      "171 2018-09-17 22:59:00  \n",
      "172 2018-09-17 22:59:00  \n",
      "173 2018-09-17 22:59:00  \n",
      "174 2018-09-16 05:09:00  \n",
      "\n",
      "[175 rows x 6 columns]\n"
     ]
    }
   ],
   "source": [
    "prices['updated_at'] = pd.to_datetime(prices['updated_at'])\n",
    "sales['ordered_at'] = pd.to_datetime(sales['ordered_at'])\n",
    "prices = prices.sort_values('updated_at')\n",
    "sales = sales.sort_values('ordered_at')\n",
    "merged_sale_price = pd.merge_asof(sales, prices, left_on = 'ordered_at', right_on = 'updated_at', by = 'product_id', direction='nearest' )\n",
    "print(merged_sale_price)"
   ]
  },
  {
   "cell_type": "code",
   "execution_count": 27,
   "id": "9502b8fd",
   "metadata": {},
   "outputs": [
    {
     "name": "stdout",
     "output_type": "stream",
     "text": [
      "     product_id  revenue\n",
      "0       3954203    60000\n",
      "1       4085861    60000\n",
      "2       4085861    60000\n",
      "3       4085861    60000\n",
      "4       4085861    53500\n",
      "..          ...      ...\n",
      "170     4085861    52000\n",
      "171     4085861    52000\n",
      "172     4085861    52000\n",
      "173     3954203    57500\n",
      "174     3998909    16500\n",
      "\n",
      "[175 rows x 2 columns]\n"
     ]
    }
   ],
   "source": [
    "merged_sale_price['final_price']=merged_sale_price.apply(lambda row: row['new_price'] if row['ordered_at'] >= row['updated_at'] else row['old_price'], axis=1)\n",
    "merged_sale_price['revenue']=merged_sale_price['quantity_ordered']*merged_sale_price['final_price']\n",
    "data=merged_sale_price.loc[:,['product_id', 'revenue']]\n",
    "print(data)"
   ]
  },
  {
   "cell_type": "code",
   "execution_count": 28,
   "id": "7e55e71b",
   "metadata": {},
   "outputs": [
    {
     "name": "stdout",
     "output_type": "stream",
     "text": [
      "            revenue\n",
      "product_id         \n",
      "64           956000\n",
      "3954203      877500\n",
      "3998909      280500\n",
      "4085861     8247500\n"
     ]
    }
   ],
   "source": [
    "final_data=data.groupby('product_id').sum('revenue')\n",
    "print(final_data)"
   ]
  },
  {
   "cell_type": "code",
   "execution_count": null,
   "id": "03bbbe9b",
   "metadata": {},
   "outputs": [],
   "source": []
  }
 ],
 "metadata": {
  "kernelspec": {
   "display_name": "Python 3 (ipykernel)",
   "language": "python",
   "name": "python3"
  },
  "language_info": {
   "codemirror_mode": {
    "name": "ipython",
    "version": 3
   },
   "file_extension": ".py",
   "mimetype": "text/x-python",
   "name": "python",
   "nbconvert_exporter": "python",
   "pygments_lexer": "ipython3",
   "version": "3.11.3"
  }
 },
 "nbformat": 4,
 "nbformat_minor": 5
}
